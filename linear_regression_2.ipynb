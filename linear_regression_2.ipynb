{
 "cells": [
  {
   "cell_type": "markdown",
   "metadata": {},
   "source": [
    "# Linear Regression Evaluation\n",
    "\n",
    "So far, we did a simple linear regression in the last example. We found out, that a girl with body height of 170cm will probably need a ring of size 56. But... how good, how exact, how reliable is the result? To find out, let's do some more calculations.\n",
    "\n",
    "But first, I want to simplify the workflow. I don't want to type in the data any longer manually into lists in python. So I created an excel sheet with two columns. Column A contains the ring data as y-value, column b contains the height data as x-value.\n",
    "\n",
    "Then I used pandas to read the excel-file into python. To see how it works, have a look at the following lines of code."
   ]
  },
  {
   "cell_type": "code",
   "execution_count": 58,
   "metadata": {},
   "outputs": [
    {
     "data": {
      "text/html": [
       "<div>\n",
       "<style scoped>\n",
       "    .dataframe tbody tr th:only-of-type {\n",
       "        vertical-align: middle;\n",
       "    }\n",
       "\n",
       "    .dataframe tbody tr th {\n",
       "        vertical-align: top;\n",
       "    }\n",
       "\n",
       "    .dataframe thead th {\n",
       "        text-align: right;\n",
       "    }\n",
       "</style>\n",
       "<table border=\"1\" class=\"dataframe\">\n",
       "  <thead>\n",
       "    <tr style=\"text-align: right;\">\n",
       "      <th></th>\n",
       "      <th>ring y</th>\n",
       "      <th>height x</th>\n",
       "    </tr>\n",
       "  </thead>\n",
       "  <tbody>\n",
       "    <tr>\n",
       "      <th>0</th>\n",
       "      <td>47.1</td>\n",
       "      <td>156.3</td>\n",
       "    </tr>\n",
       "    <tr>\n",
       "      <th>1</th>\n",
       "      <td>46.8</td>\n",
       "      <td>158.9</td>\n",
       "    </tr>\n",
       "    <tr>\n",
       "      <th>2</th>\n",
       "      <td>49.3</td>\n",
       "      <td>160.8</td>\n",
       "    </tr>\n",
       "    <tr>\n",
       "      <th>3</th>\n",
       "      <td>53.2</td>\n",
       "      <td>179.6</td>\n",
       "    </tr>\n",
       "    <tr>\n",
       "      <th>4</th>\n",
       "      <td>47.7</td>\n",
       "      <td>156.6</td>\n",
       "    </tr>\n",
       "    <tr>\n",
       "      <th>5</th>\n",
       "      <td>49.0</td>\n",
       "      <td>165.1</td>\n",
       "    </tr>\n",
       "    <tr>\n",
       "      <th>6</th>\n",
       "      <td>50.6</td>\n",
       "      <td>165.9</td>\n",
       "    </tr>\n",
       "    <tr>\n",
       "      <th>7</th>\n",
       "      <td>47.1</td>\n",
       "      <td>156.7</td>\n",
       "    </tr>\n",
       "    <tr>\n",
       "      <th>8</th>\n",
       "      <td>51.7</td>\n",
       "      <td>167.8</td>\n",
       "    </tr>\n",
       "    <tr>\n",
       "      <th>9</th>\n",
       "      <td>47.8</td>\n",
       "      <td>160.8</td>\n",
       "    </tr>\n",
       "  </tbody>\n",
       "</table>\n",
       "</div>"
      ],
      "text/plain": [
       "   ring y  height x\n",
       "0    47.1     156.3\n",
       "1    46.8     158.9\n",
       "2    49.3     160.8\n",
       "3    53.2     179.6\n",
       "4    47.7     156.6\n",
       "5    49.0     165.1\n",
       "6    50.6     165.9\n",
       "7    47.1     156.7\n",
       "8    51.7     167.8\n",
       "9    47.8     160.8"
      ]
     },
     "execution_count": 58,
     "metadata": {},
     "output_type": "execute_result"
    }
   ],
   "source": [
    "# a reference to the pandas library\n",
    "import pandas as pd\n",
    "\n",
    "# the excel file must be in the same directory as this notebook\n",
    "# name of the excel file is ring-height.xlsx\n",
    "excel_file= 'ring-height.xlsx'\n",
    "\n",
    "# via panda, the contents ae read into a variable or data frame named data \n",
    "data = pd.read_excel(excel_file)\n",
    "\n",
    "# get the length of entries in the file \n",
    "# and print out the data\n",
    "entries = len(data)\n",
    "data.head(entries)"
   ]
  },
  {
   "cell_type": "markdown",
   "metadata": {},
   "source": [
    "As we can see, the data frame consists of a matrix with a column named \"ring y\" and a column named \"height x\". Pandas offers us the opportunity to get the ring values by using this command"
   ]
  },
  {
   "cell_type": "code",
   "execution_count": 15,
   "metadata": {},
   "outputs": [
    {
     "name": "stdout",
     "output_type": "stream",
     "text": [
      "0    47.1\n",
      "1    46.8\n",
      "2    49.3\n",
      "3    53.2\n",
      "4    47.7\n",
      "5    49.0\n",
      "6    50.6\n",
      "7    47.1\n",
      "8    51.7\n",
      "9    47.8\n",
      "Name: ring y, dtype: float64\n"
     ]
    }
   ],
   "source": [
    "print(data['ring y'])"
   ]
  },
  {
   "cell_type": "markdown",
   "metadata": {},
   "source": [
    "The same way we get the height values. Type this command"
   ]
  },
  {
   "cell_type": "code",
   "execution_count": 19,
   "metadata": {},
   "outputs": [
    {
     "name": "stdout",
     "output_type": "stream",
     "text": [
      "All height values\n",
      "0    156.3\n",
      "1    158.9\n",
      "2    160.8\n",
      "3    179.6\n",
      "4    156.6\n",
      "5    165.1\n",
      "6    165.9\n",
      "7    156.7\n",
      "8    167.8\n",
      "9    160.8\n",
      "Name: height x, dtype: float64\n",
      " \n",
      "Just the third height value (160.8)\n",
      "160.8\n"
     ]
    }
   ],
   "source": [
    "print (\"All height values\")\n",
    "print(data['height x'])\n",
    "print(\" \")\n",
    "print (\"Just the third height value (160.8)\")\n",
    "print(data['height x'][2])"
   ]
  },
  {
   "cell_type": "markdown",
   "metadata": {},
   "source": [
    "## Finding the correlation coefficient\n",
    "\n",
    "As we know, correlation coefficients are used to measure how strong a relationship is between two variables. There are several types of correlation coefficient, but the most popular is Pearson’s. Pearson’s correlation (also called Pearson’s R) is a correlation coefficient commonly used in linear regression. \n",
    "\n",
    "Correlation coefficient formulas are used to find how strong a relationship is between data. The formulas return a value between -1 and 1, where:\n",
    "\n",
    "- 1 indicates a strong positive relationship.\n",
    "- -1 indicates a strong negative relationship.\n",
    "- A result of zero indicates no relationship at all.\n",
    "\n",
    "To get the R-value, we need to feed Pearson's correlation coefficient formula with our x- and y-values. The formula from basic statistics class is this:\n",
    "\n",
    "\\begin{equation}\n",
    "r = \\frac{\\sum_{i=1}^{n} (x_i - \\bar{x}) \\cdot (y_i - \\bar{y})}{\\sqrt{\\sum_{i=1}^{n} (x_i - \\bar{x})^2 \\cdot \\sum_{i=1}^{n} (y_i - \\bar{y})^2}}\n",
    "\\end{equation}\n",
    "\n",
    "Parts of this formula sound familiar, as we already computed parts of it for the slope, remember? So, let's do two steps: calculate the r-value and then optimize the code from the last notebook."
   ]
  },
  {
   "cell_type": "code",
   "execution_count": 60,
   "metadata": {
    "scrolled": true
   },
   "outputs": [
    {
     "name": "stdout",
     "output_type": "stream",
     "text": [
      "   ring y  height x  x_mean  y_mean  x_opt  y_opt\n",
      "0    47.1     156.3  162.85   49.03  -6.55  -1.93\n",
      "1    46.8     158.9  162.85   49.03  -3.95  -2.23\n",
      "2    49.3     160.8  162.85   49.03  -2.05   0.27\n",
      "3    53.2     179.6  162.85   49.03  16.75   4.17\n",
      "4    47.7     156.6  162.85   49.03  -6.25  -1.33\n",
      "5    49.0     165.1  162.85   49.03   2.25  -0.03\n",
      "6    50.6     165.9  162.85   49.03   3.05   1.57\n",
      "7    47.1     156.7  162.85   49.03  -6.15  -1.93\n",
      "8    51.7     167.8  162.85   49.03   4.95   2.67\n",
      "9    47.8     160.8  162.85   49.03  -2.05  -1.23\n",
      "\n",
      "Correlation coefficient r is:  0.9335248086395552\n"
     ]
    }
   ],
   "source": [
    "import math\n",
    "\n",
    "# calculate the algorithmic mean of x and y\n",
    "data['x_mean'] = sum(data2['height x'])/len(data2)\n",
    "data['y_mean'] = sum(data2['ring y'])/len(data2)\n",
    "\n",
    "# calculate (xi - xmean) and call it x_opt\n",
    "# calculate (yi - ymean) and call it y_opt\n",
    "data['x_opt'] = data2['height x'] - data2['x_mean']\n",
    "data['y_opt'] = data2['ring y'] - data2['y_mean']\n",
    "\n",
    "# print the results for debug\n",
    "print(data)\n",
    "\n",
    "# calculate the both parts of the fraction\n",
    "numerator = sum(data['x_opt']*data['y_opt'])\n",
    "denominator = math.sqrt(sum(data['x_opt']**2)*sum(data['y_opt']**2))\n",
    "\n",
    "r=numerator/denominator\n",
    "                        \n",
    "print (\"\\nCorrelation coefficient r is: \", r)"
   ]
  },
  {
   "cell_type": "markdown",
   "metadata": {},
   "source": [
    "## Finding the coefficient of determination\n",
    "\n",
    "Using some text from udacity's classes: \"While a strong correlation is good, we really want to know how well the data fits our line. Fortunately, we can get a sense of how good the formula is at approximating the data by calculating the coefficient of determination, or r-squared. R-squared is a coefficient between 0 and 1. R-squared is interpreted as the percent of variance in observations that is explained by the model, or the explanatory power of the model. An R-squared value close to 1 would mean that nearly all variance in the target variable is explained by the model. An R-squared value close to 0 would mean that nearly none of the variance in the target variable is explained by the model.\""
   ]
  },
  {
   "cell_type": "code",
   "execution_count": 61,
   "metadata": {},
   "outputs": [
    {
     "name": "stdout",
     "output_type": "stream",
     "text": [
      "Coefficient of determination R2 is:  0.8714685683455182\n"
     ]
    }
   ],
   "source": [
    "Rsquared = r**2\n",
    "\n",
    "print(\"Coefficient of determination R2 is: \", Rsquared)"
   ]
  },
  {
   "cell_type": "markdown",
   "metadata": {},
   "source": [
    "Again from udacity's classes: \"How you interpret R-squared depends heavily on the problem you're trying to model and the data you use. For tough problems, a very low R-squared may be acceptable. Also, a high R-squared may result from a poor model. However, in general, the higher the R-squared the better, especially as you add and remove predictor variables to determine the strongest predictive model.\"\n",
    "\n",
    "Now we have calculated r and r squared, lets us put the complete example together:"
   ]
  },
  {
   "cell_type": "code",
   "execution_count": 82,
   "metadata": {},
   "outputs": [
    {
     "data": {
      "image/png": "[encoded data removed]",
      "text/plain": [
       "<Figure size 432x288 with 1 Axes>"
      ]
     },
     "metadata": {
      "needs_background": "light"
     },
     "output_type": "display_data"
    },
    {
     "name": "stdout",
     "output_type": "stream",
     "text": [
      "\n",
      "Correlation coefficient r is:  0.9335248086395552\n",
      "Coefficient of determination r2 is:  0.8714685683455182\n"
     ]
    }
   ],
   "source": [
    "import matplotlib.pyplot as plt \n",
    "import numpy as np\n",
    "import pandas as pd\n",
    "import math\n",
    "\n",
    "# the excel file must be in the same directory as this notebook\n",
    "# name of the excel file is ring-height.xlsx\n",
    "excel_file= 'ring-height.xlsx'\n",
    "\n",
    "# via panda, the contents ae read into a variable or data frame named data \n",
    "data = pd.read_excel(excel_file)\n",
    "\n",
    "# get the length of entries in the file \n",
    "# and print out the data\n",
    "entries = len(data)\n",
    "\n",
    "# calculate the algorithmic mean of x and y\n",
    "data['x_mean'] = sum(data2['height x'])/len(data2)\n",
    "data['y_mean'] = sum(data2['ring y'])/len(data2)\n",
    "\n",
    "# calculate (xi - xmean) and call it x_opt\n",
    "# calculate (yi - ymean) and call it y_opt\n",
    "data['x_opt'] = data2['height x'] - data2['x_mean']\n",
    "data['y_opt'] = data2['ring y'] - data2['y_mean']\n",
    "\n",
    "#calculate the slope for linear regression\n",
    "numerator_slope = sum(data['x_opt']*data['y_opt'])\n",
    "denominator_slope = sum(data['x_opt']**2)\n",
    "\n",
    "# calculate the slope\n",
    "m = numerator_slope / denominator_slope\n",
    "# calculate the y-intercept\n",
    "b = data['y_mean'][0] - m*data['x_mean'][0]\n",
    "\n",
    "# draw a scatter plot with the tupels     \n",
    "figure = plt.figure()\n",
    "ax = figure.add_subplot(1,1,1)\n",
    "ax.set_ylabel('ring size')\n",
    "ax.set_xlabel('height')\n",
    "ax.set_ylim(45,55)\n",
    "plt.scatter(data['height x'], data['ring y']) \n",
    "\n",
    "# draw the regression line\n",
    "x_line = [min(data['height x']), max(data['height x'])]\n",
    "y_line = [b + m*min(data['height x']), b + m*max(data['height x'])]\n",
    "plt.title(\"Body height vs. ring size\")\n",
    "plt.plot(x_line,y_line,'red')\n",
    "\n",
    "# show the plot\n",
    "plt.show()\n",
    "\n",
    "# calculate the both parts of the fraction\n",
    "numerator = sum(data['x_opt']*data['y_opt'])\n",
    "denominator = math.sqrt(sum(data['x_opt']**2)*sum(data['y_opt']**2))\n",
    "\n",
    "r=numerator/denominator\n",
    "                        \n",
    "print (\"\\nCorrelation coefficient r is: \", r)\n",
    "\n",
    "rsquared = r**2\n",
    "\n",
    "print(\"Coefficient of determination r2 is: \", rsquared)"
   ]
  },
  {
   "cell_type": "markdown",
   "metadata": {},
   "source": [
    "To make the dataframe access even more general, you can access the first column either by its name data['ring_ y'] or by data[data.columns[0]]"
   ]
  },
  {
   "cell_type": "code",
   "execution_count": 80,
   "metadata": {},
   "outputs": [
    {
     "name": "stdout",
     "output_type": "stream",
     "text": [
      "0    47.1\n",
      "1    46.8\n",
      "2    49.3\n",
      "3    53.2\n",
      "4    47.7\n",
      "5    49.0\n",
      "6    50.6\n",
      "7    47.1\n",
      "8    51.7\n",
      "9    47.8\n",
      "Name: ring y, dtype: float64\n",
      "0    156.3\n",
      "1    158.9\n",
      "2    160.8\n",
      "3    179.6\n",
      "4    156.6\n",
      "5    165.1\n",
      "6    165.9\n",
      "7    156.7\n",
      "8    167.8\n",
      "9    160.8\n",
      "Name: height x, dtype: float64\n",
      "ring y\n",
      "0    47.1\n",
      "1    46.8\n",
      "2    49.3\n",
      "3    53.2\n",
      "4    47.7\n",
      "5    49.0\n",
      "6    50.6\n",
      "7    47.1\n",
      "8    51.7\n",
      "9    47.8\n",
      "Name: ring y, dtype: float64\n"
     ]
    }
   ],
   "source": [
    "print(data['ring y'])\n",
    "print(data['height x'])\n",
    "\n",
    "print(data.columns[0])\n",
    "\n",
    "print (data[data.columns[0]])"
   ]
  },
  {
   "cell_type": "markdown",
   "metadata": {},
   "source": [
    "Now that we have completed the ring example, let's move on to the ticket example from the classes. Maybe we can use statisticical functions from the libraries to shorten the code?"
   ]
  }
 ],
 "metadata": {
  "kernelspec": {
   "display_name": "Python 3",
   "language": "python",
   "name": "python3"
  },
  "language_info": {
   "codemirror_mode": {
    "name": "ipython",
    "version": 3
   },
   "file_extension": ".py",
   "mimetype": "text/x-python",
   "name": "python",
   "nbconvert_exporter": "python",
   "pygments_lexer": "ipython3",
   "version": "3.8.5"
  }
 },
 "nbformat": 4,
 "nbformat_minor": 4
}

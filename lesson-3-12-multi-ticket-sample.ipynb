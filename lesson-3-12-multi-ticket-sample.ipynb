{
 "cells": [
  {
   "cell_type": "markdown",
   "metadata": {},
   "source": [
    "# From linear to multi-linear regression\n",
    "\n",
    "In the last notebook we learned about linear regression and using python libraries to make our life simpler. If you want to read about that, have a look at\n",
    "\n",
    "https://github.com/jegali/DataScience/blob/main/lesson-3-9-ticket-sample.ipynb\n",
    "\n",
    "The last code snippet dealt with the usage of statsmodel which we will use again in this example."
   ]
  },
  {
   "cell_type": "code",
   "execution_count": 20,
   "metadata": {
    "scrolled": false
   },
   "outputs": [
    {
     "name": "stdout",
     "output_type": "stream",
     "text": [
      " Contents of the file  linear-example-data-3-13.xlsx\n",
      "    Average Number of Tickets  Number of Employees  Value of Contract  \\\n",
      "0                           1                   51              25750   \n",
      "1                           9                   68              25000   \n",
      "2                          20                   67              40000   \n",
      "3                           1                  124              35000   \n",
      "4                           8                  124              25000   \n",
      "5                          30                  134              50000   \n",
      "6                          20                  157              48000   \n",
      "7                           8                  190              32000   \n",
      "8                          20                  205              70000   \n",
      "9                          50                  230              75000   \n",
      "10                         35                  265              50000   \n",
      "11                         65                  296              75000   \n",
      "12                         35                  336              50000   \n",
      "13                         60                  359              75000   \n",
      "14                         85                  403              81000   \n",
      "15                         40                  418              60000   \n",
      "16                         75                  437              53000   \n",
      "17                         85                  451              90000   \n",
      "18                         65                  465              70000   \n",
      "19                         95                  491             100000   \n",
      "\n",
      "         Industry  \n",
      "0          Retail  \n",
      "1        Services  \n",
      "2        Services  \n",
      "3          Retail  \n",
      "4   Manufacturing  \n",
      "5        Services  \n",
      "6          Retail  \n",
      "7          Retail  \n",
      "8          Retail  \n",
      "9   Manufacturing  \n",
      "10  Manufacturing  \n",
      "11       Services  \n",
      "12  Manufacturing  \n",
      "13  Manufacturing  \n",
      "14       Services  \n",
      "15         Retail  \n",
      "16       Services  \n",
      "17       Services  \n",
      "18         Retail  \n",
      "19       Services  \n",
      "\n",
      "\n",
      "\n",
      "Linear Regression values evaluated by sklearn: \n",
      " \n",
      "Y-intercept: \t -24.26671246720077\n",
      "Coefficients:\t [0.10190728 0.00066845]\n",
      "\n",
      "\n",
      "\n",
      "Linear Regression values evaluated by statsmodel: \n",
      " \n",
      "                                OLS Regression Results                               \n",
      "=====================================================================================\n",
      "Dep. Variable:     Average Number of Tickets   R-squared:                       0.878\n",
      "Model:                                   OLS   Adj. R-squared:                  0.863\n",
      "Method:                        Least Squares   F-statistic:                     60.97\n",
      "Date:                       Sun, 27 Dec 2020   Prob (F-statistic):           1.76e-08\n",
      "Time:                               14:27:30   Log-Likelihood:                -75.083\n",
      "No. Observations:                         20   AIC:                             156.2\n",
      "Df Residuals:                             17   BIC:                             159.2\n",
      "Df Model:                                  2                                         \n",
      "Covariance Type:                   nonrobust                                         \n",
      "=======================================================================================\n",
      "                          coef    std err          t      P>|t|      [0.025      0.975]\n",
      "---------------------------------------------------------------------------------------\n",
      "const                 -24.2667      7.020     -3.457      0.003     -39.079      -9.455\n",
      "Number of Employees     0.1019      0.028      3.594      0.002       0.042       0.162\n",
      "Value of Contract       0.0007      0.000      3.564      0.002       0.000       0.001\n",
      "==============================================================================\n",
      "Omnibus:                        0.901   Durbin-Watson:                   2.452\n",
      "Prob(Omnibus):                  0.637   Jarque-Bera (JB):                0.511\n",
      "Skew:                          -0.384   Prob(JB):                        0.775\n",
      "Kurtosis:                       2.851   Cond. No.                     1.70e+05\n",
      "==============================================================================\n",
      "\n",
      "Notes:\n",
      "[1] Standard Errors assume that the covariance matrix of the errors is correctly specified.\n",
      "[2] The condition number is large, 1.7e+05. This might indicate that there are\n",
      "strong multicollinearity or other numerical problems.\n"
     ]
    }
   ],
   "source": [
    "# a reference to the pandas library\n",
    "import pandas as pd\n",
    "\n",
    "# To visualize the data\n",
    "import matplotlib.pyplot as plt  \n",
    "\n",
    "# This is new. Let's try a library which does \n",
    "# the linear regression for us\n",
    "import statsmodels.api as sm\n",
    "\n",
    "from sklearn import linear_model\n",
    "from sklearn.linear_model import LinearRegression\n",
    "\n",
    "# To visualize the data\n",
    "import matplotlib.pyplot as plt  \n",
    "\n",
    "# the excel file must be in the same directory as this notebook\n",
    "# be sure to use the right excel data file.\n",
    "# Udacity has some files named linear-example-data with different content\n",
    "# I renamed this one to linear-example-data-3-13.xlsx \n",
    "excel_file= 'linear-example-data-3-13.xlsx'\n",
    "\n",
    "# via pandas, the contents ae read into a variable or data frame named data\n",
    "data = pd.read_excel(excel_file)\n",
    "\n",
    "# let's have a look at the data\n",
    "print (\" Contents of the file \", excel_file)\n",
    "print(data)\n",
    "\n",
    "# instead of only using one column for linear regression,\n",
    "# we use two columns for multilinear regression\n",
    "# column industry is no number column, so we can not integrate it into the calculation\n",
    "X = data[['Number of Employees','Value of Contract']]\n",
    "Y = data['Average Number of Tickets']\n",
    "\n",
    "# let's do the evaluation with sklearn\n",
    "# Many roads lead to Rome...\n",
    "regr = linear_model.LinearRegression()\n",
    "regr.fit(X, Y)\n",
    "\n",
    "print (\"\\n\\n\")\n",
    "print (\"Linear Regression values evaluated by sklearn: \")\n",
    "print(\" \")\n",
    "print('Y-intercept: \\t', regr.intercept_)\n",
    "print('Coefficients:\\t', regr.coef_)\n",
    "\n",
    "# let's to the evaluation with statsmodels\n",
    "# we have to add a constant to the calculation or\n",
    "# we do not have a Y-intercept\n",
    "X = sm.add_constant(X)\n",
    "\n",
    "# build the model\n",
    "model = sm.OLS(Y,X).fit()\n",
    "model_prediction = model.predict(X)\n",
    "model_details = model.summary()\n",
    "\n",
    "# and print the model summary\n",
    "print(\"\\n\\n\")\n",
    "print(\"Linear Regression values evaluated by statsmodel: \")\n",
    "print(\" \")\n",
    "print(model_details)"
   ]
  },
  {
   "cell_type": "markdown",
   "metadata": {},
   "source": [
    "The model above gave the following equation: \n",
    "\n",
    "\\begin{equation}\n",
    "Tickets = -24.267 + 0.1019 \\cdot [Number \\; of \\; Employees] + 0.0007 \\cdot [Value \\; of \\; Contract]\n",
    "\\end{equation}\n",
    "\n",
    "What would the model predict for the number of tickets for a customer with 750 employees and a contract of $13,000? \n",
    "Inserting the value in the formula we get 61. Below we can see a visualization of the data as a scatter plot"
   ]
  },
  {
   "cell_type": "code",
   "execution_count": 22,
   "metadata": {},
   "outputs": [
    {
     "name": "stdout",
     "output_type": "stream",
     "text": [
      " \n"
     ]
    },
    {
     "data": {
      "image/png": "[encoded data removed]",
      "text/plain": [
       "<Figure size 432x288 with 1 Axes>"
      ]
     },
     "metadata": {
      "needs_background": "light"
     },
     "output_type": "display_data"
    },
    {
     "name": "stdout",
     "output_type": "stream",
     "text": [
      " \n"
     ]
    },
    {
     "data": {
      "image/png": "[encoded data removed]",
      "text/plain": [
       "<Figure size 432x288 with 1 Axes>"
      ]
     },
     "metadata": {
      "needs_background": "light"
     },
     "output_type": "display_data"
    }
   ],
   "source": [
    "# create an object for linear regression from sklearn\n",
    "linear_regressor = LinearRegression()  \n",
    "\n",
    "# convert the values in an array that fits the function's need\n",
    "X = data['Number of Employees'].values.reshape(-1, 1)\n",
    "Y = data['Average Number of Tickets'].values.reshape(-1, 1)\n",
    "\n",
    "# and do the regression calculation with sklearn\n",
    "linear_regressor.fit(X,Y)\n",
    "# make predictions on Y based on X\n",
    "Y_pred = linear_regressor.predict(X)\n",
    "\n",
    "print(\" \")\n",
    "# scatter plot\n",
    "figure = plt.figure()\n",
    "ax = figure.add_subplot(1,1,1)\n",
    "ax.set_ylabel('Avg number of tickets')\n",
    "ax.set_xlabel('Number of employees')\n",
    "plt.scatter(X, Y)\n",
    "# linear regression function\n",
    "plt.title(\"Number of employees vs. Avg number of tickets\")\n",
    "plt.plot(X, Y_pred, color='red')\n",
    "\n",
    "# show the graphs\n",
    "plt.show()\n",
    "\n",
    "###############################\n",
    "###############################\n",
    "###############################\n",
    "\n",
    "# convert the values in an array that fits the function's need\n",
    "X = data['Value of Contract'].values.reshape(-1, 1)\n",
    "Y = data['Average Number of Tickets'].values.reshape(-1, 1)\n",
    "\n",
    "# and do the regression calculation with sklearn\n",
    "linear_regressor.fit(X,Y)\n",
    "# make predictions on Y based on X\n",
    "Y_pred = linear_regressor.predict(X)\n",
    "\n",
    "print(\" \")\n",
    "# scatter plot\n",
    "figure = plt.figure()\n",
    "ax = figure.add_subplot(1,1,1)\n",
    "ax.set_ylabel('Avg number of tickets')\n",
    "ax.set_xlabel('Value of Contract')\n",
    "plt.scatter(X, Y)\n",
    "# linear regression function\n",
    "plt.title(\"Value of Contract vs. Avg number of tickets\")\n",
    "plt.plot(X, Y_pred, color='red')\n",
    "\n",
    "# show the graphs\n",
    "plt.show()\n"
   ]
  },
  {
   "cell_type": "code",
   "execution_count": null,
   "metadata": {},
   "outputs": [],
   "source": []
  }
 ],
 "metadata": {
  "kernelspec": {
   "display_name": "Python 3",
   "language": "python",
   "name": "python3"
  },
  "language_info": {
   "codemirror_mode": {
    "name": "ipython",
    "version": 3
   },
   "file_extension": ".py",
   "mimetype": "text/x-python",
   "name": "python",
   "nbconvert_exporter": "python",
   "pygments_lexer": "ipython3",
   "version": "3.8.5"
  }
 },
 "nbformat": 4,
 "nbformat_minor": 4
}

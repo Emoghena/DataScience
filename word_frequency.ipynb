{
 "cells": [
  {
   "cell_type": "code",
   "execution_count": 81,
   "metadata": {},
   "outputs": [
    {
     "data": {
      "text/plain": [
       "<function matplotlib.pyplot.show(close=None, block=None)>"
      ]
     },
     "execution_count": 81,
     "metadata": {},
     "output_type": "execute_result"
    },
    {
     "data": {
      "image/png": "[encoded data removed]",
      "text/plain": [
       "<Figure size 432x288 with 1 Axes>"
      ]
     },
     "metadata": {
      "needs_background": "light"
     },
     "output_type": "display_data"
    }
   ],
   "source": [
    "# This notebook counts the frequency of the words in genesis, chapter one.\n",
    "\n",
    "# the result will be shown in a horizontal bar char,\n",
    "# so let's import matplotlib\n",
    "import matplotlib.pyplot as plt\n",
    "\n",
    "# the text itself\n",
    "document=\"\"\"In the beginning God created the heaven and the earth.\n",
    "2 And the earth was without form, and void; and darkness was upon the face of the deep. And the Spirit of God moved upon the face of the waters.\n",
    "3 And God said, Let there be light: and there was light.\n",
    "4 And God saw the light, that it was good: and God divided the light from the darkness.\n",
    "5 And God called the light Day, and the darkness he called Night. And the evening and the morning were the first day.\n",
    "6 And God said, Let there be a firmament in the midst of the waters, and let it divide the waters from the waters.\n",
    "7 And God made the firmament, and divided the waters which were under the firmament from the waters which were above the firmament: and it was so.\n",
    "8 And God called the firmament Heaven. And the evening and the morning were the second day.\n",
    "9 And God said, Let the waters under the heaven be gathered together unto one place, and let the dry land appear: and it was so.\n",
    "10 And God called the dry land Earth; and the gathering together of the waters called he Seas: and God saw that it was good.\n",
    "11 And God said, Let the earth bring forth grass, the herb yielding seed, and the fruit tree yielding fruit after his kind, whose seed is in itself, upon the earth: and it was so.\n",
    "12 And the earth brought forth grass, and herb yielding seed after his kind, and the tree yielding fruit, whose seed was in itself, after his kind: and God saw that it was good.\n",
    "13 And the evening and the morning were the third day.\n",
    "14 And God said, Let there be lights in the firmament of the heaven to divide the day from the night; and let them be for signs, and for seasons, and for days, and years:\n",
    "15 And let them be for lights in the firmament of the heaven to give light upon the earth: and it was so.\n",
    "16 And God made two great lights; the greater light to rule the day, and the lesser light to rule the night: he made the stars also.\n",
    "17 And God set them in the firmament of the heaven to give light upon the earth,\n",
    "18 And to rule over the day and over the night, and to divide the light from the darkness: and God saw that it was good.\n",
    "19 And the evening and the morning were the fourth day.\n",
    "20 And God said, Let the waters bring forth abundantly the moving creature that hath life, and fowl that may fly above the earth in the open firmament of heaven.\n",
    "21 And God created great whales, and every living creature that moveth, which the waters brought forth abundantly, after their kind, and every winged fowl after his kind: and God saw that it was good.\n",
    "22 And God blessed them, saying, Be fruitful, and multiply, and fill the waters in the seas, and let fowl multiply in the earth.\n",
    "23 And the evening and the morning were the fifth day.\n",
    "24 And God said, Let the earth bring forth the living creature after his kind, cattle, and creeping thing, and beast of the earth after his kind: and it was so.\n",
    "25 And God made the beast of the earth after his kind, and cattle after their kind, and every thing that creepeth upon the earth after his kind: and God saw that it was good.\n",
    "26 And God said, Let us make man in our image, after our likeness: and let them have dominion over the fish of the sea, and over the fowl of the air, and over the cattle, and over all the earth, and over every creeping thing that creepeth upon the earth.\n",
    "27 So God created man in his own image, in the image of God created he him; male and female created he them.\n",
    "28 And God blessed them, and God said unto them, Be fruitful, and multiply, and replenish the earth, and subdue it: and have dominion over the fish of the sea, and over the fowl of the air, and over every living thing that moveth upon the earth.\n",
    "29 And God said, Behold, I have given you every herb bearing seed, which is upon the face of all the earth, and every tree, in the which is the fruit of a tree yielding seed; to you it shall be for meat.\n",
    "30 And to every beast of the earth, and to every fowl of the air, and to every thing that creepeth upon the earth, wherein there is life, I have given every green herb for meat: and it was so.\n",
    "31 And God saw every thing that he had made, and, behold, it was very good. And the evening and the morning were the sixth day.\"\"\"\n",
    "\n",
    "#remove unwanted characters\n",
    "for char in '-.,;:0123456789\\n':\n",
    "    document=document.replace(char,' ')\n",
    "\n",
    "# make all words lowercase    \n",
    "document = document.lower()\n",
    "\n",
    "# and split them among the space character\n",
    "# put the result in the variable word_list\n",
    "word_list = document.split()\n",
    "\n",
    "# create a dictionary and count the different words\n",
    "word_counts = {}\n",
    "for word in word_list:\n",
    "    if word in word_counts:\n",
    "        word_counts[word] += 1\n",
    "    else:\n",
    "        word_counts[word] = 1\n",
    "        \n",
    "# to sort the counted words descending, put them in a list,\n",
    "# each item of the list is a tupel\n",
    "word_freq = []\n",
    "for key, value in word_counts.items():\n",
    "    word_freq.append((value, key))\n",
    "    \n",
    "# sort the list descending    \n",
    "word_freq.sort(reverse=True)   \n",
    "\n",
    "# create a list of words for the bar chart\n",
    "word_val=[]\n",
    "# create a list of frequencies for the bar chart\n",
    "word_key=[]\n",
    "# iterate the topmost 10 entries in the list\n",
    "for items in word_freq[0:10]:\n",
    "    word_val.append(items[1])\n",
    "    word_key.append(items[0])\n",
    "\n",
    "# initialize and plot the horizontal bar chart    \n",
    "plt.barh(word_val,word_key)\n",
    "plt.show\n"
   ]
  },
  {
   "cell_type": "code",
   "execution_count": null,
   "metadata": {},
   "outputs": [],
   "source": []
  }
 ],
 "metadata": {
  "kernelspec": {
   "display_name": "Python 3",
   "language": "python",
   "name": "python3"
  },
  "language_info": {
   "codemirror_mode": {
    "name": "ipython",
    "version": 3
   },
   "file_extension": ".py",
   "mimetype": "text/x-python",
   "name": "python",
   "nbconvert_exporter": "python",
   "pygments_lexer": "ipython3",
   "version": "3.8.5"
  }
 },
 "nbformat": 4,
 "nbformat_minor": 4
}

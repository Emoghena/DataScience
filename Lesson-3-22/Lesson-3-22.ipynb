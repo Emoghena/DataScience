{
 "cells": [
  {
   "cell_type": "markdown",
   "metadata": {},
   "source": [
    "# Building your First Model in Alteryx\n",
    "\n",
    "Having built the model from Lesson 3-22 in alteryx, I wanted to try if I can get the same results with Python and statsmodels. It was surprisingly easy to code the model. For the first part, I had to extend the excel data from the given format\n",
    "\n",
    "<img src=\"3-22-excel-1.png\" width=500>\n",
    "\n",
    "to a format with dummy variables for the category of Industry.\n",
    "\n",
    "<img src=\"3-22-excel-2.png\">\n",
    "\n",
    "As we learned in our lessons, Industry is a nominal value which can't be count or measured. To use it in a linear regression, we have to convert it in at least an ordinal form. You might also recall, that three values given in the nominal data, you only have to add two dummy variables. That is, the third value (the missing value) is the value the regression is compared to. Having extended the given data, I used most of the code from my last example\n",
    "\n",
    "https://github.com/jegali/DataScience/blob/main/lesson-3-12-multi-ticket-sample.ipynb\n",
    "\n",
    "and the statsmodel library to calculate the values for the linear regression."
   ]
  },
  {
   "cell_type": "code",
   "execution_count": 7,
   "metadata": {},
   "outputs": [
    {
     "name": "stdout",
     "output_type": "stream",
     "text": [
      "                                OLS Regression Results                               \n",
      "=====================================================================================\n",
      "Dep. Variable:     Average Number of Tickets   R-squared:                       0.965\n",
      "Model:                                   OLS   Adj. R-squared:                  0.956\n",
      "Method:                        Least Squares   F-statistic:                     103.7\n",
      "Date:                       Tue, 05 Jan 2021   Prob (F-statistic):           9.69e-11\n",
      "Time:                               12:38:46   Log-Likelihood:                -62.537\n",
      "No. Observations:                         20   AIC:                             135.1\n",
      "Df Residuals:                             15   BIC:                             140.1\n",
      "Df Model:                                  4                                         \n",
      "Covariance Type:                   nonrobust                                         \n",
      "=======================================================================================\n",
      "                          coef    std err          t      P>|t|      [0.025      0.975]\n",
      "---------------------------------------------------------------------------------------\n",
      "const                 -18.4504      4.765     -3.872      0.002     -28.606      -8.295\n",
      "Number of Employees     0.1116      0.016      6.886      0.000       0.077       0.146\n",
      "Value of Contract       0.0005      0.000      4.387      0.001       0.000       0.001\n",
      "Retail                 -8.7254      3.756     -2.323      0.035     -16.731      -0.720\n",
      "Services               12.4938      3.700      3.377      0.004       4.607      20.380\n",
      "==============================================================================\n",
      "Omnibus:                        0.884   Durbin-Watson:                   2.835\n",
      "Prob(Omnibus):                  0.643   Jarque-Bera (JB):                0.716\n",
      "Skew:                          -0.010   Prob(JB):                        0.699\n",
      "Kurtosis:                       2.073   Cond. No.                     2.45e+05\n",
      "==============================================================================\n",
      "\n",
      "Notes:\n",
      "[1] Standard Errors assume that the covariance matrix of the errors is correctly specified.\n",
      "[2] The condition number is large, 2.45e+05. This might indicate that there are\n",
      "strong multicollinearity or other numerical problems.\n"
     ]
    }
   ],
   "source": [
    "# a reference to the pandas library\n",
    "import pandas as pd\n",
    "\n",
    "# To visualize the data\n",
    "import matplotlib.pyplot as plt  \n",
    "\n",
    "# This is new. Let's try a library which does \n",
    "# the linear regression for us\n",
    "import statsmodels.api as sm\n",
    "\n",
    "from sklearn import linear_model\n",
    "from sklearn.linear_model import LinearRegression\n",
    "\n",
    "# To visualize the data\n",
    "import matplotlib.pyplot as plt  \n",
    "\n",
    "# the excel file must be in the same directory as this notebook\n",
    "# be sure to use the right excel data file.\n",
    "# Udacity has some files named linear-example-data with different content\n",
    "# This one is the enriched excel file\n",
    "excel_file= 'linear-example-data-6.xlsx'\n",
    "\n",
    "# via pandas, the contents ae read into a variable or data frame named data\n",
    "data = pd.read_excel(excel_file)\n",
    "\n",
    "# let's have a look at the data\n",
    "# print (\" Contents of the file \", excel_file)\n",
    "# print(data)\n",
    "\n",
    "# We want to calculate the Average number of tickets, so this is our dependent variable \n",
    "# and has to be put on the Y-Axis\n",
    "Y = data['Average Number of Tickets']\n",
    "\n",
    "# We use all other columns as independent values and thus data feed for the X-Axis\n",
    "# You may notice that column \"Manufacturing\" is missing. This is the dummy variable I will leave out.\n",
    "# The column \"industry\" is also missing - we don't need it as it only contains nominal data.\n",
    "X = data[['Number of Employees','Value of Contract','Retail','Services']]\n",
    "\n",
    "# let's to the evaluation with statsmodels\n",
    "# we have to add a constant to the calculation or\n",
    "# we do not have a Y-intercept\n",
    "X = sm.add_constant(X)\n",
    "\n",
    "# build the model\n",
    "model = sm.OLS(Y,X).fit()\n",
    "model_prediction = model.predict(X)\n",
    "model_details = model.summary()\n",
    "\n",
    "print(model_details)"
   ]
  },
  {
   "cell_type": "markdown",
   "metadata": {},
   "source": [
    "Here we have the results calculated by Alteryx - you may find them at the end of the video in lesson 3-22:\n",
    "\n",
    "<img src=\"3-22-alteryx-1.png\">"
   ]
  },
  {
   "cell_type": "markdown",
   "metadata": {},
   "source": [
    "This solution may not be as convenient as the usage of alteryx as alteryx does a lot of conversion for us, as well as creating the dummy variables - but I think we have a lot more degrees of freedom using python."
   ]
  }
 ],
 "metadata": {
  "kernelspec": {
   "display_name": "Python 3",
   "language": "python",
   "name": "python3"
  },
  "language_info": {
   "codemirror_mode": {
    "name": "ipython",
    "version": 3
   },
   "file_extension": ".py",
   "mimetype": "text/x-python",
   "name": "python",
   "nbconvert_exporter": "python",
   "pygments_lexer": "ipython3",
   "version": "3.8.5"
  }
 },
 "nbformat": 4,
 "nbformat_minor": 4
}

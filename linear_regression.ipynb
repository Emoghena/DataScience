{
 "cells": [
  {
   "cell_type": "markdown",
   "metadata": {},
   "source": [
    "# On my way to linear regression\n",
    "\n",
    "In this notebook, I show my path to linear regression. Before using a whole bunch of predefined functions from python libraries which will do a linear regression for me, I want to figure out what's under the hood and how it's working. So, first, I will start with a linear function and see how this can be plot in python.\n",
    "\n",
    "\n",
    "\n",
    "\n",
    "## Linear function, part 1\n",
    "\n",
    "As we all should know from school, the general formula for a linear function is \n",
    "\n",
    "\\begin{equation} \n",
    "f(x) = m \\cdot x + b\n",
    "\\end{equation}\n",
    "\n",
    "where m is the slope and b the y-intercept. The following lines of code show how to program a linear function in python using the numpy library. You may experiment with the code but be aware this code is just a concept, not a complete program, so I decided to renounce error checking."
   ]
  },
  {
   "cell_type": "code",
   "execution_count": 20,
   "metadata": {},
   "outputs": [
    {
     "data": {
      "text/plain": [
       "<function matplotlib.pyplot.show(close=None, block=None)>"
      ]
     },
     "execution_count": 20,
     "metadata": {},
     "output_type": "execute_result"
    },
    {
     "data": {
      "image/png": "[encoded data removed]",
      "text/plain": [
       "<Figure size 432x288 with 1 Axes>"
      ]
     },
     "metadata": {
      "needs_background": "light"
     },
     "output_type": "display_data"
    }
   ],
   "source": [
    "import matplotlib.pyplot as plt\n",
    "import numpy as np\n",
    "\n",
    "# 10 linearly spaced numbers in th einterval of [-10,10]\n",
    "x=np.linspace(-10,10,10)\n",
    "\n",
    "# y intercept\n",
    "b = 3\n",
    "# slope\n",
    "m = 2\n",
    "# declaration of function f(x) which is y=mx+b here\n",
    "y = m*x + b\n",
    "\n",
    "fig = plt.figure()\n",
    "ax = fig.add_subplot(1,1,1)\n",
    "\n",
    "ax.spines['left'].set_position('center')\n",
    "ax.spines['right'].set_color('none')\n",
    "ax.spines['top'].set_color('none')\n",
    "ax.spines['bottom'].set_position('zero')\n",
    "\n",
    "ax.xaxis.set_ticks_position('bottom')\n",
    "ax.yaxis.set_ticks_position('left')\n",
    "\n",
    "plt.plot(x,y,'red')\n",
    "plt.show"
   ]
  },
  {
   "cell_type": "markdown",
   "metadata": {},
   "source": [
    "## Linear function, part 2\n",
    "\n",
    "In the first example, we set the slope and y-intercept by manipulating values in the code. But, what is to do if we do not have a slope or the y-intercept so far but only 2 coordinates (x1, y1) and (x2, y2)? We must calculate the missing values ourself. To calculate a slope, you simply divide y by x. Since we have two values to take into consideration, we have to calculate the delta between the y and x values:\n",
    "\n",
    "\\begin{equation}\n",
    "slope = m = \\frac{\\Delta y}{\\Delta x} = \\frac{y_2 - y_1}{x_2 - x_1} \n",
    "\\end{equation}\n",
    "\n",
    "Example: Let P1 = (-3,-2) and P2 = (5,4). Put in the equation above we get\n",
    "\n",
    "\\begin{equation}\n",
    "slope = m = \\frac{\\Delta y}{\\Delta x} = \\frac{y_2 - y_1}{x_2 - x_1} = \\frac{4 - (-2)}{5 - (-3)} = \\frac{6}{8} = \\frac{3}{4}\n",
    "\\end{equation}\n",
    "\n",
    "Finding the y-intercept, given the slope and one point is no problem anymore\n",
    "\n",
    "\\begin{equation}\n",
    "y = m \\cdot x + b \\Leftrightarrow \n",
    "y - m \\cdot x = b\n",
    "\\end{equation}\n",
    "\n",
    "Putting P2 = (5,4) in the equation above we get\n",
    "\n",
    "\\begin{equation}\n",
    "4 - \\frac{3}{4} \\cdot 5 = b \\leftrightarrow\n",
    "4 - \\frac{15}{4} = 4 - 3\\frac{3}{4} = \\frac{1}{4} = b\n",
    "\\end{equation}\n",
    "\n",
    "So the y-intercept is 1/4. Put the values for b and m in the source code. A scatter plot has been added as overlay above the line plot. As you can see, both points are on the line."
   ]
  },
  {
   "cell_type": "code",
   "execution_count": 24,
   "metadata": {},
   "outputs": [
    {
     "data": {
      "text/plain": [
       "<function matplotlib.pyplot.show(close=None, block=None)>"
      ]
     },
     "execution_count": 24,
     "metadata": {},
     "output_type": "execute_result"
    },
    {
     "data": {
      "image/png": "[encoded data removed]",
      "text/plain": [
       "<Figure size 432x288 with 1 Axes>"
      ]
     },
     "metadata": {
      "needs_background": "light"
     },
     "output_type": "display_data"
    }
   ],
   "source": [
    "import matplotlib.pyplot as plt\n",
    "import numpy as np\n",
    "\n",
    "# 10 linearly spaced numbers in th einterval of [-10,10]\n",
    "x=np.linspace(-10,10,10)\n",
    "\n",
    "# y intercept\n",
    "b = 0.25\n",
    "# slope\n",
    "m = 0.75\n",
    "# declaration of function f(x) which is y=mx+b here\n",
    "y = m*x + b\n",
    "\n",
    "fig = plt.figure()\n",
    "ax = fig.add_subplot(1,1,1)\n",
    "\n",
    "ax.spines['left'].set_position('center')\n",
    "ax.spines['right'].set_color('none')\n",
    "ax.spines['top'].set_color('none')\n",
    "ax.spines['bottom'].set_position('zero')\n",
    "\n",
    "ax.xaxis.set_ticks_position('bottom')\n",
    "ax.yaxis.set_ticks_position('left')\n",
    "\n",
    "#\n",
    "# begin\n",
    "# this is the part for drawing the two points as scatter polot\n",
    "#\n",
    "\n",
    "# put p1 and p2 in a list\n",
    "# put the x values\n",
    "scatter_x = [-3, 5]\n",
    "# put the y values\n",
    "scatter_y = [-2, 4]\n",
    "plt.scatter(scatter_x,scatter_y)\n",
    "\n",
    "#\n",
    "# end\n",
    "# this is the part for drawing the two points as scatter polot\n",
    "#\n",
    "\n",
    "plt.plot(x,y,'red')\n",
    "plt.show\n"
   ]
  },
  {
   "cell_type": "markdown",
   "metadata": {},
   "source": [
    "## Linear function, part 3\n",
    "\n",
    "If only two points are given, it is always possible to draw a straight line by these two points.If there are more than two points, it is no longer possible to assume that all points are on the calculated straight line. In this case, it is necessary to make a compensation calculation to determine the best straight line for the point cloud. A typical and also easy-to-understand method of balancing calculation is the method of the smallest squares.\n",
    "\n",
    " Here, the unknowns (parameters) of the model are determined in such a way that the square sum of the measurement deviations of all observations is minimized and thus the measurement curve and theory curve correspond best.\n",
    "This is an optimization process. The calculation steps of a balancing process are simplified if the observations are considered to be normally distributed, equal and uncorrelated. The stochastic properties of the observations in the regression analysis are examined.\n",
    "\n",
    "Let's repeat the equation for linear equations\n",
    "\n",
    "\\begin{equation} \n",
    "f(x) = y = m \\cdot x + b\n",
    "\\end{equation}\n",
    "\n",
    "and find a more general formula:\n",
    "\n",
    "\\begin{equation} \n",
    "y = \\beta_0 + \\beta_1 \\cdot x\n",
    "\\end{equation}\n",
    "\n",
    "where m and b are redefined by \n",
    "\n",
    "\\begin{equation} \n",
    "b = \\beta_0 \n",
    "\\end{equation}\n",
    "\\begin{equation} \n",
    "m = \\beta_1\n",
    "\\end{equation}\n",
    "\n",
    "The formula for the slope's calculation via the smallest squares is\n",
    "\n",
    "\\begin{equation} \n",
    "\\beta_1 = \\frac{\\sum_{i=1}^{n} (x_i - \\bar{x}) \\cdot (y_i – \\bar{y})}{\\sum_{i=1}^n (x_i – \\bar{x})^2}\n",
    "\\end{equation}\n",
    "\n",
    "where $\\bar{x}$ is the mean of the x-values and $\\bar{y}$ is the mean of the y-values. $\\beta_0$ can be calculated as\n",
    "\n",
    "\\begin{equation}\n",
    "\\beta_0 = \\bar{y} – \\beta_1\\cdot \\bar{x}\n",
    "\\end{equation}\n",
    "\n",
    "Time to get our hands dirty...\n",
    "\n",
    "\n",
    "\n",
    "## One ring to rule them all\n",
    "\n",
    "We want to give our girlfriend a ring for Christmas, but we don't know her ring size. Now it would be doofy to ask her about the ring size, so the whole surprise would be gone. Therefore we would like to appreciate the ring size (y) of our girlfriend. But we only know their height (x). To estimate the ring size, we collect 10 data points from friends and acquaintances, and record their height and ring size:\n",
    "\n",
    "<table>\n",
    "<tbody>\n",
    "<tr>\n",
    "<th>Person \\(i\\)</th>\n",
    "<th>1</th>\n",
    "<th>2</th>\n",
    "<th>3</th>\n",
    "<th>4</th>\n",
    "<th>5</th>\n",
    "<th>6</th>\n",
    "<th>7</th>\n",
    "<th>8</th>\n",
    "<th>9</th>\n",
    "<th>10</th>\n",
    "</tr>\n",
    "<tr>\n",
    "<th>Height \\(x\\)</th>\n",
    "<td>156.3</td>\n",
    "<td>158.9</td>\n",
    "<td>160.8</td>\n",
    "<td>179.6</td>\n",
    "<td>156.6</td>\n",
    "<td>165.1</td>\n",
    "<td>165.9</td>\n",
    "<td>156.7</td>\n",
    "<td>167.8</td>\n",
    "<td>160.8</td>\n",
    "</tr>\n",
    "<tr>\n",
    "<th>Ring size \\(y\\)</th>\n",
    "<td>47.1</td>\n",
    "<td>46.8</td>\n",
    "<td>49.3</td>\n",
    "<td>53.2</td>\n",
    "<td>47.7</td>\n",
    "<td>49.0</td>\n",
    "<td>50.6</td>\n",
    "<td>47.1</td>\n",
    "<td>51.7</td>\n",
    "<td>47.8</td>\n",
    "</tr>\n",
    "</tbody>\n",
    "</table>\n",
    "\n",
    "We call y the target size here, because their prediction is our goal. The height x is commonly called influence size. However, there are countless other names for the two types of variables. In other sources, y is also often called target variable, regressing edge, outcome, explained variable, or dependent variable (because it depends on x). Other names for x are covariable, input, regressor, explanatory variable, or independent variable.\n",
    "\n",
    "Wait... regressing edge? Regressor? Hmmm....\n",
    "Sounds like we are building a linear regression model"
   ]
  },
  {
   "cell_type": "code",
   "execution_count": 15,
   "metadata": {},
   "outputs": [
    {
     "name": "stdout",
     "output_type": "stream",
     "text": [
      "2.8406810945004963\n"
     ]
    },
    {
     "data": {
      "image/png": "[encoded data removed]",
      "text/plain": [
       "<Figure size 432x288 with 1 Axes>"
      ]
     },
     "metadata": {
      "needs_background": "light"
     },
     "output_type": "display_data"
    }
   ],
   "source": [
    "import matplotlib.pyplot as plt \n",
    "import numpy as np\n",
    "\n",
    "x = [156.3, 158.9, 160.8, 179.6, 156.6, 165.1, 165.9, 156.7, 167.8, 160.8] \n",
    "y = [47.1, 46.8, 49.3, 53.2, 47.7, 49.0, 50.6, 47.1, 51.7, 47.8]\n",
    "\n",
    "x_mean = sum(x)/len(x)\n",
    "y_mean = sum(y)/len(y)\n",
    "\n",
    "\n",
    "# let's call the values (xi - x) x_opt\n",
    "# let's call the values (yi - y) y_opt\n",
    "\n",
    "x_opt = []\n",
    "y_opt = []\n",
    "\n",
    "# calculate a list with (xi -x)\n",
    "for x_item in x:\n",
    "    x_opt.append(x_item-x_mean)\n",
    "\n",
    "# calculate a list with (yi -y)\n",
    "for y_item in y:\n",
    "    y_opt.append(y_item-y_mean)\n",
    "\n",
    "# multiply each element from two lists    \n",
    "denominator = sum(x * y for x, y in zip(x_opt, x_opt))      \n",
    "numerator = sum(x * y for x, y in zip(x_opt, y_opt))\n",
    "\n",
    "# calculate the slope\n",
    "m = numerator / denominator\n",
    "# calculate the y-intercept\n",
    "b = y_mean - m*x_mean\n",
    "    \n",
    "print(b)\n",
    "\n",
    "# draw a scatter plot with the tupels     \n",
    "figure = plt.figure()\n",
    "ax = figure.add_subplot(1,1,1)\n",
    "ax.set_ylabel('ring size')\n",
    "ax.set_xlabel('height')\n",
    "ax.set_ylim(45,55)\n",
    "plt.scatter(x, y) \n",
    "\n",
    "# draw the regression line\n",
    "x_line = [min(x), max(x)]\n",
    "y_line = [b + m*min(x), b + m*max(x)]\n",
    "plt.plot(x_line,y_line,'red')\n",
    "\n",
    "# show the plot\n",
    "plt.show()"
   ]
  },
  {
   "cell_type": "markdown",
   "metadata": {},
   "source": [
    "## Prediction in simple linear regression\n",
    "\n",
    "So far, we have learned how to calculate the two coefficients a and b. Now we want to use the parameters to predict for new data x what value we expect for y.\n",
    "\n",
    "The goal we want to achieve with regression is this: Suppose a new person comes, of which we only know the height x=170. What then is the expected value of the ring size y? So we are looking for E(y|x), the conditional expected value of y, given one knows x.\n",
    "\n",
    "In simple linear regression, there is only one influence x. The regression line is therefore\n",
    "\n",
    "\\begin{equation}\n",
    "y = \\beta_0 + \\beta_1 \\cdot x\n",
    "\\end{equation}\n",
    "\n",
    "So to get a prediction for target size y, we simply need to insert the corresponding value for x into the equation. We have already calculated the values for $\\beta_0$ and $\\beta_1$ beforehand.\n",
    "\n",
    "For example, in the shown code, we determined the values $\\beta_1=2.8457$ and $\\beta_0=0.2836$. What ring size can be expected of your girlfriend if she has a height of x=170cm? For this we calculate:\n",
    "\n",
    "\\begin{equation}\n",
    "y = \\beta_0 + \\beta_1 \\cdot x = 2.8457 + 0.2836 \\cdot 170 = 51.0577\n",
    "\\end{equation}\n",
    "\n",
    "A ring with a size 51 should therefore fit well with her.\n",
    "\n",
    "It is still important to mention here that we only predict the expected value of y. So the ring size will not be exactly 51.06, but there is always a small error, which is called in the linear model ε (read: Epsilon). In reality, the regression equation is\n",
    "\n",
    "\\begin{equation}\n",
    "y = \\beta_0 + \\beta_1 \\cdot x + \\epsilon\n",
    "\\end{equation}"
   ]
  },
  {
   "cell_type": "code",
   "execution_count": null,
   "metadata": {},
   "outputs": [],
   "source": []
  }
 ],
 "metadata": {
  "celltoolbar": "Raw Cell Format",
  "kernelspec": {
   "display_name": "Python 3",
   "language": "python",
   "name": "python3"
  },
  "language_info": {
   "codemirror_mode": {
    "name": "ipython",
    "version": 3
   },
   "file_extension": ".py",
   "mimetype": "text/x-python",
   "name": "python",
   "nbconvert_exporter": "python",
   "pygments_lexer": "ipython3",
   "version": "3.8.5"
  }
 },
 "nbformat": 4,
 "nbformat_minor": 4
}
